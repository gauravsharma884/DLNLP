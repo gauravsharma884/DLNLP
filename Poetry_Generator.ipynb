{
  "nbformat": 4,
  "nbformat_minor": 0,
  "metadata": {
    "colab": {
      "name": "Poetry_Generator.ipynb",
      "provenance": []
    },
    "kernelspec": {
      "name": "python3",
      "display_name": "Python 3"
    },
    "language_info": {
      "name": "python"
    }
  },
  "cells": [
    {
      "cell_type": "markdown",
      "source": [
        "# ***Poetry Generator (RNN Markov)***"
      ],
      "metadata": {
        "id": "Pd3XTxpmYi4i"
      }
    },
    {
      "cell_type": "markdown",
      "source": [
        "This Projects builds model to generate new verses in the style of the poems by using **RNN (Recurrent Neural Networks) and Markov Chains.** \n",
        "\n",
        "> *The Keras.LSTM functions (Recurrent Neural Networks) are used to predict the properties of the next line of the poem (for example, the number of syllables and the rhyme scheme), so that an appropriate new sentence can be chosen. The Markovify functions (Markov Chains) are used to build new sentences (based off of word1=>word2 probabilities) from the setences that were generated with Markovify.*\n",
        "\n",
        "In order to genrate a new poetry for this project, the vocabulary and rhyme schemes of rappers: Notorious B.I.G. and Lil Wayne are taken into consideration.\n",
        "\n",
        "\n",
        "\n",
        "**Table Of Content**\n",
        "*   Importing Libraries\n",
        "*   Reading Data Files\n",
        "*   Building Model\n",
        "*   Train and run the model\n",
        "*   Writing In Combined Style"
      ],
      "metadata": {
        "id": "Oph1vUlPongG"
      }
    },
    {
      "cell_type": "markdown",
      "source": [
        "**Importing Libraries**\n",
        "\n",
        "\n"
      ],
      "metadata": {
        "id": "BNwVcGZPZCvX"
      }
    },
    {
      "cell_type": "code",
      "execution_count": 1,
      "metadata": {
        "id": "K3hApTDsXNHh"
      },
      "outputs": [],
      "source": [
        "import numpy as np\n",
        "from matplotlib import pyplot as plt\n",
        "%matplotlib inline\n",
        "import pronouncing\n",
        "import markovify\n",
        "import re\n",
        "import random\n",
        "import numpy as np\n",
        "import os\n",
        "import keras\n",
        "from keras.models import Sequential\n",
        "from keras.layers import LSTM \n",
        "from keras.layers.core import Dense"
      ]
    },
    {
      "cell_type": "markdown",
      "source": [
        "**Mounting Colab**"
      ],
      "metadata": {
        "id": "gqih6yhbZ9xT"
      }
    },
    {
      "cell_type": "code",
      "source": [
        "from google.colab import drive\n",
        "drive.mount('/content/MyDrive')"
      ],
      "metadata": {
        "colab": {
          "base_uri": "https://localhost:8080/"
        },
        "id": "R507FDyyZcvM",
        "outputId": "0bb4a95c-1446-4a10-b9d6-c245ccc861ee"
      },
      "execution_count": 2,
      "outputs": [
        {
          "output_type": "stream",
          "name": "stdout",
          "text": [
            "Drive already mounted at /content/MyDrive; to attempt to forcibly remount, call drive.mount(\"/content/MyDrive\", force_remount=True).\n"
          ]
        }
      ]
    },
    {
      "cell_type": "markdown",
      "source": [
        "**Reading The Data Files**"
      ],
      "metadata": {
        "id": "FtbfU_ReaFJM"
      }
    },
    {
      "cell_type": "code",
      "source": [
        "artist_file = '/content/MyDrive/MyDrive/DLNLP/poetry_generator/notorious-big.txt'\n",
        "with open(artist_file) as f: # The with keyword automatically closes the file when you are done\n",
        "    print (f.read(1000))"
      ],
      "metadata": {
        "colab": {
          "base_uri": "https://localhost:8080/"
        },
        "id": "_PuX3K_aZclF",
        "outputId": "957cf065-4f56-45fd-d471-a09acccf24ae"
      },
      "execution_count": 3,
      "outputs": [
        {
          "output_type": "stream",
          "name": "stdout",
          "text": [
            "﻿baby It was all a dream\n",
            "I used to read Word Up magazine\n",
            "Salt n Pepa and Heavy D up in the limousine\n",
            "Hangin pictures on my wall\n",
            "Every Saturday Rap Attack Mr Magic Marley Marl\n",
            "I let my tape rock til my tape popped\n",
            "Smokin weed and Bambu sippin on Private Stock\n",
            "Way back when I had the red and black lumberjack\n",
            "With the hat to match\n",
            "Remember Rappin Duke duhha duhha\n",
            "You never thought that hip hop would take it this far\n",
            "Now Im in the limelight cause I rhyme tight\n",
            "Time to get paid blow up like the World Trade\n",
            "Born sinner the opposite of a winner\n",
            "Remember when I used to eat sardines for dinner\n",
            "Peace to Ron G Brucey B Kid Capri\n",
            "Funkmaster Flex Lovebug Starski wassup\n",
            "Im blowin up like you thought I would\n",
            "Call the crib same number same hood thats right\n",
            "Its all good its aaalll good\n",
            "And if you dont know now you know niXga You know very well who you are\n",
            "Dont let em hold you down reach for the stars\n",
            "You had a few but not that many\n",
            "Cause youre the only one Ill give you good and plenty I made the change\n"
          ]
        }
      ]
    },
    {
      "cell_type": "markdown",
      "source": [
        "Most Commonly Used Words"
      ],
      "metadata": {
        "id": "lRlpomYdafEQ"
      }
    },
    {
      "cell_type": "code",
      "source": [
        "def plotWordFrequency(input):\n",
        "    f = open(artist_file,'r')\n",
        "    words = [x for y in [l.split() for l in f.readlines()] for x in y]\n",
        "    data = sorted([(w, words.count(w)) for w in set(words)], key = lambda x:x[1], reverse=True)[:40] \n",
        "    most_words = [x[0] for x in data]\n",
        "    times_used = [int(x[1]) for x in data]\n",
        "    plt.figure(figsize=(20,10))\n",
        "    plt.bar(x=sorted(most_words), height=times_used, color = 'grey', edgecolor = 'black',  width=.5)\n",
        "    plt.xticks(rotation=45, fontsize=18)\n",
        "    plt.yticks(rotation=0, fontsize=18)\n",
        "    plt.xlabel('Most Common Words:', fontsize=18)\n",
        "    plt.ylabel('Number of Occurences:', fontsize=18)\n",
        "    plt.title('Most Commonly Used Words: %s' % (artist_file), fontsize=24)\n",
        "    plt.show()\n",
        "    \n",
        "plotWordFrequency(artist_file)"
      ],
      "metadata": {
        "colab": {
          "base_uri": "https://localhost:8080/",
          "height": 661
        },
        "id": "1VuuTxblaRq_",
        "outputId": "0ab69dbe-8fdb-45d9-cd14-d39137e2eb6c"
      },
      "execution_count": 4,
      "outputs": [
        {
          "output_type": "display_data",
          "data": {
            "text/plain": [
              "<Figure size 1440x720 with 1 Axes>"
            ],
            "image/png": "[encoded data removed]"
          },
          "metadata": {
            "needs_background": "light"
          }
        }
      ]
    },
    {
      "cell_type": "code",
      "source": [
        "artist_file_1 = '/content/MyDrive/MyDrive/DLNLP/poetry_generator/Lil_Wayne.txt'\n",
        "with open(artist_file) as f: # The with keyword automatically closes the file when you are done\n",
        "    print (f.read(1000))"
      ],
      "metadata": {
        "colab": {
          "base_uri": "https://localhost:8080/"
        },
        "id": "vXX-w5DWaRwc",
        "outputId": "79bea1cd-5753-4d25-e0e6-62a426f6f127"
      },
      "execution_count": 5,
      "outputs": [
        {
          "output_type": "stream",
          "name": "stdout",
          "text": [
            "﻿baby It was all a dream\n",
            "I used to read Word Up magazine\n",
            "Salt n Pepa and Heavy D up in the limousine\n",
            "Hangin pictures on my wall\n",
            "Every Saturday Rap Attack Mr Magic Marley Marl\n",
            "I let my tape rock til my tape popped\n",
            "Smokin weed and Bambu sippin on Private Stock\n",
            "Way back when I had the red and black lumberjack\n",
            "With the hat to match\n",
            "Remember Rappin Duke duhha duhha\n",
            "You never thought that hip hop would take it this far\n",
            "Now Im in the limelight cause I rhyme tight\n",
            "Time to get paid blow up like the World Trade\n",
            "Born sinner the opposite of a winner\n",
            "Remember when I used to eat sardines for dinner\n",
            "Peace to Ron G Brucey B Kid Capri\n",
            "Funkmaster Flex Lovebug Starski wassup\n",
            "Im blowin up like you thought I would\n",
            "Call the crib same number same hood thats right\n",
            "Its all good its aaalll good\n",
            "And if you dont know now you know niXga You know very well who you are\n",
            "Dont let em hold you down reach for the stars\n",
            "You had a few but not that many\n",
            "Cause youre the only one Ill give you good and plenty I made the change\n"
          ]
        }
      ]
    },
    {
      "cell_type": "markdown",
      "source": [
        "Most Commonly Used Words"
      ],
      "metadata": {
        "id": "hCMSptb855wL"
      }
    },
    {
      "cell_type": "code",
      "source": [
        "plotWordFrequency(artist_file_1)"
      ],
      "metadata": {
        "colab": {
          "base_uri": "https://localhost:8080/",
          "height": 661
        },
        "id": "LA9IufzEaRoZ",
        "outputId": "445d026a-fe55-43a6-81c5-94b0082e2969"
      },
      "execution_count": 6,
      "outputs": [
        {
          "output_type": "display_data",
          "data": {
            "text/plain": [
              "<Figure size 1440x720 with 1 Axes>"
            ],
            "image/png": "[encoded data removed]"
          },
          "metadata": {
            "needs_background": "light"
          }
        }
      ]
    },
    {
      "cell_type": "markdown",
      "source": [
        "### **Building Model**"
      ],
      "metadata": {
        "id": "hFiT4jvqcM4T"
      }
    },
    {
      "cell_type": "markdown",
      "source": [
        "Recurrent Neural Network"
      ],
      "metadata": {
        "id": "aqu6UsWrxKch"
      }
    },
    {
      "cell_type": "code",
      "source": [
        "def create_network(depth):\n",
        "\tmodel = Sequential()\n",
        "\tmodel.add(LSTM(4, input_shape=(2, 2), return_sequences=True))\n",
        "\tfor i in range(depth):\n",
        "\t\tmodel.add(LSTM(8, return_sequences=True))\n",
        "\tmodel.add(LSTM(2, return_sequences=True))\n",
        "\tmodel.summary()\n",
        "\tmodel.compile(optimizer='rmsprop',\n",
        "              loss='mse')\n",
        "\tif artist + \".rap\" in os.listdir(\".\") and train_mode == False:\n",
        "\t\tmodel.load_weights(str(artist + \".rap\"))\n",
        "\t\tprint(\"loading saved network: \" + str(artist) + \".rap\") \n",
        "\treturn model"
      ],
      "metadata": {
        "id": "SMqSKvYZeBNV"
      },
      "execution_count": 7,
      "outputs": []
    },
    {
      "cell_type": "markdown",
      "source": [
        "Markov Chain"
      ],
      "metadata": {
        "id": "Koe14QAaxMxO"
      }
    },
    {
      "cell_type": "code",
      "source": [
        "def markov(text_file):\n",
        "\tread = open(text_file, \"r\", encoding='utf-8').read()\n",
        "\ttext_model = markovify.NewlineText(read)\n",
        "\treturn text_model"
      ],
      "metadata": {
        "id": "p3p1HCjEaRjc"
      },
      "execution_count": 8,
      "outputs": []
    },
    {
      "cell_type": "markdown",
      "source": [
        "Determining number of syllables in line\n",
        "\n"
      ],
      "metadata": {
        "id": "q4QO6IdOxVIX"
      }
    },
    {
      "cell_type": "code",
      "source": [
        "def syllables(line):\n",
        "\tcount = 0\n",
        "\tfor word in line.split(\" \"):\n",
        "\t\tvowels = 'aeiouy'\n",
        "\t\tword = word.lower().strip(\".:;?!\")\n",
        "\t\tif word[0] in vowels:\n",
        "\t\t\tcount +=1\n",
        "\t\tfor index in range(1,len(word)):\n",
        "\t\t\tif word[index] in vowels and word[index-1] not in vowels:\n",
        "\t\t\t\tcount +=1\n",
        "\t\tif word.endswith('e'):\n",
        "\t\t\tcount -= 1\n",
        "\t\tif word.endswith('le'):\n",
        "\t\t\tcount+=1\n",
        "\t\tif count == 0:\n",
        "\t\t\tcount +=1\n",
        "\treturn count / maxsyllables"
      ],
      "metadata": {
        "id": "gG4LdiSzaRhF"
      },
      "execution_count": 9,
      "outputs": []
    },
    {
      "cell_type": "markdown",
      "source": [
        "Making index of words that rhyme with word"
      ],
      "metadata": {
        "id": "BkHn1_PjxbCN"
      }
    },
    {
      "cell_type": "code",
      "source": [
        "def rhymeindex(lyrics):\n",
        "\tif str(artist) + \".rhymes\" in os.listdir(\".\") and train_mode == False:\n",
        "\t\tprint (\"loading saved rhymes from \" + str(artist) + \".rhymes\")\n",
        "\t\treturn open(str(artist) + \".rhymes\", \"r\",encoding='utf-8').read().split(\"\\n\")\n",
        "\telse:\n",
        "\t\trhyme_master_list = []\n",
        "\t\tprint (\"Building list of rhymes:\")\n",
        "\t\tfor i in lyrics:\n",
        "\t\t\tword = re.sub(r\"\\W+\", '', i.split(\" \")[-1]).lower()\n",
        "\t\t\trhymeslist = pronouncing.rhymes(word)\n",
        "\t\t\trhymeslistends = []      \n",
        "\t\t\tfor i in rhymeslist:\n",
        "\t\t\t\trhymeslistends.append(i[-2:])\n",
        "\t\t\ttry:\n",
        "\t\t\t\trhymescheme = max(set(rhymeslistends), key=rhymeslistends.count)\n",
        "\t\t\texcept Exception:\n",
        "\t\t\t\trhymescheme = word[-2:]\n",
        "\t\t\trhyme_master_list.append(rhymescheme)\n",
        "\t\trhyme_master_list = list(set(rhyme_master_list))\n",
        "\t\treverselist = [x[::-1] for x in rhyme_master_list]\n",
        "\t\treverselist = sorted(reverselist)\n",
        "\t\trhymelist = [x[::-1] for x in reverselist]\n",
        "\t\tprint(\"List of Sorted 2-Letter Rhyme Ends:\")\n",
        "\t\tprint(rhymelist)\n",
        "\t\tf = open(str(artist) + \".rhymes\", \"w\", encoding='utf-8')\n",
        "\t\tf.write(\"\\n\".join(rhymelist))\n",
        "\t\tf.close()\n",
        "\t\treturn rhymelist"
      ],
      "metadata": {
        "id": "1O87U9uMaReg"
      },
      "execution_count": 10,
      "outputs": []
    },
    {
      "cell_type": "markdown",
      "source": [
        "Make index of rhymes to be used"
      ],
      "metadata": {
        "id": "Ff934AJFxjA6"
      }
    },
    {
      "cell_type": "code",
      "source": [
        "def rhyme(line, rhyme_list):\n",
        "\tword = re.sub(r\"\\W+\", '', line.split(\" \")[-1]).lower()\n",
        "\trhymeslist = pronouncing.rhymes(word)\n",
        "\trhymeslistends = []\n",
        "\tfor i in rhymeslist:\n",
        "\t\trhymeslistends.append(i[-2:])\n",
        "\ttry:\n",
        "\t\trhymescheme = max(set(rhymeslistends), key=rhymeslistends.count)\n",
        "\texcept Exception:\n",
        "\t\trhymescheme = word[-2:]\n",
        "\ttry:\n",
        "\t\tfloat_rhyme = rhyme_list.index(rhymescheme)\n",
        "\t\tfloat_rhyme = float_rhyme / float(len(rhyme_list))\n",
        "\t\treturn float_rhyme\n",
        "\texcept Exception:\n",
        "\t\tfloat_rhyme = None\n",
        "\t\treturn float_rhyme"
      ],
      "metadata": {
        "id": "ktBCwG9eaRb5"
      },
      "execution_count": 11,
      "outputs": []
    },
    {
      "cell_type": "markdown",
      "source": [
        "Separating each line of the input txt"
      ],
      "metadata": {
        "id": "GU4SDLO6xpDp"
      }
    },
    {
      "cell_type": "code",
      "source": [
        "def split_lyrics_file(text_file):\n",
        "\ttext = open(text_file, encoding='utf-8').read()\n",
        "\ttext = text.split(\"\\n\")\n",
        "\twhile \"\" in text:\n",
        "\t\ttext.remove(\"\")\n",
        "\treturn text"
      ],
      "metadata": {
        "id": "YxBFz5ytaRZi"
      },
      "execution_count": 12,
      "outputs": []
    },
    {
      "cell_type": "markdown",
      "source": [
        "To Generate lyrics"
      ],
      "metadata": {
        "id": "HvV8JTlxxt2J"
      }
    },
    {
      "cell_type": "code",
      "source": [
        "def generate_lyrics(text_model, text_file):\n",
        "\tbars = []\n",
        "\tlast_words = []\n",
        "\tlyriclength = len(open(text_file,encoding='utf-8').read().split(\"\\n\"))\n",
        "\tcount = 0\n",
        "\tmarkov_model = markov(text_file)\n",
        "\t\n",
        "\twhile len(bars) < lyriclength / 9 and count < lyriclength * 2:\n",
        "\t\tbar = markov_model.make_sentence(max_overlap_ratio = .49, tries=100)\n",
        "\t\tif type(bar) != type(None) and syllables(bar) < 1:\n",
        "\t\t\tdef get_last_word(bar):\n",
        "\t\t\t\tlast_word = bar.split(\" \")[-1]\n",
        "\t\t\t\tif last_word[-1] in \"!.?,\":\n",
        "\t\t\t\t\tlast_word = last_word[:-1]\n",
        "\t\t\t\treturn last_word\n",
        "\t\t\tlast_word = get_last_word(bar)\n",
        "\t\t\tif bar not in bars and last_words.count(last_word) < 3:\n",
        "\t\t\t\tbars.append(bar)\n",
        "\t\t\t\tlast_words.append(last_word)\n",
        "\t\t\t\tcount += 1\n",
        "\treturn bars"
      ],
      "metadata": {
        "id": "dm57HiXGaRW7"
      },
      "execution_count": 13,
      "outputs": []
    },
    {
      "cell_type": "markdown",
      "source": [
        "Building dataset"
      ],
      "metadata": {
        "id": "ZrIjo-Sjx046"
      }
    },
    {
      "cell_type": "code",
      "source": [
        "def build_dataset(lines, rhyme_list):\n",
        "\tdataset = []\n",
        "\tline_list = []\n",
        "\tfor line in lines:\n",
        "\t\tline_list = [line, syllables(line), rhyme(line, rhyme_list)]\n",
        "\t\tdataset.append(line_list)\n",
        "\tx_data = []\n",
        "\ty_data = []\n",
        "\tfor i in range(len(dataset) - 3):\n",
        "\t\tline1 = dataset[i    ][1:]\n",
        "\t\tline2 = dataset[i + 1][1:]\n",
        "\t\tline3 = dataset[i + 2][1:]\n",
        "\t\tline4 = dataset[i + 3][1:]\n",
        "\t\tx = [line1[0], line1[1], line2[0], line2[1]]\n",
        "\t\tx = np.array(x)\n",
        "\t\tx = x.reshape(2,2)\n",
        "\t\tx_data.append(x)\n",
        "\t\ty = [line3[0], line3[1], line4[0], line4[1]]\n",
        "\t\ty = np.array(y)\n",
        "\t\ty = y.reshape(2,2)\n",
        "\t\ty_data.append(y)\n",
        "\tx_data = np.array(x_data)\n",
        "\ty_data = np.array(y_data)\n",
        "\treturn x_data, y_data"
      ],
      "metadata": {
        "id": "okC-f08RaRUl"
      },
      "execution_count": 14,
      "outputs": []
    },
    {
      "cell_type": "markdown",
      "source": [
        "Composing verse"
      ],
      "metadata": {
        "id": "yxihtEa2x5YY"
      }
    },
    {
      "cell_type": "code",
      "source": [
        "def compose_rap(lines, rhyme_list, lyrics_file, model):\n",
        "\trap_vectors = []\n",
        "\thuman_lyrics = split_lyrics_file(lyrics_file)\n",
        "\tinitial_index = random.choice(range(len(human_lyrics) - 1))\n",
        "\tinitial_lines = human_lyrics[initial_index:initial_index + 2]\n",
        "\tstarting_input = []\n",
        "\tfor line in initial_lines:\n",
        "\t\tstarting_input.append([syllables(line), rhyme(line, rhyme_list)])\n",
        "\tstarting_vectors = model.predict(np.array([starting_input]).flatten().reshape(1, 2, 2))\n",
        "\trap_vectors.append(starting_vectors)\n",
        "\tfor i in range(100):\n",
        "\t\trap_vectors.append(model.predict(np.array([rap_vectors[-1]]).flatten().reshape(1, 2, 2)))\n",
        "\treturn rap_vectors"
      ],
      "metadata": {
        "id": "V1hWj20NaRSP"
      },
      "execution_count": 15,
      "outputs": []
    },
    {
      "cell_type": "code",
      "source": [
        "def vectors_into_song(vectors, generated_lyrics, rhyme_list):\n",
        "\tprint (\"\\n\\n\")\t\n",
        "\tprint (\"Writing verse:\")\n",
        "\tprint (\"\\n\\n\")\n",
        "\tdef last_word_compare(rap, line2):\n",
        "\t\tpenalty = 0 \n",
        "\t\tfor line1 in rap:\n",
        "\t\t\tword1 = line1.split(\" \")[-1]\n",
        "\t\t\tword2 = line2.split(\" \")[-1]\n",
        "\t\t\twhile word1[-1] in \"?!,. \":\n",
        "\t\t\t\tword1 = word1[:-1]\n",
        "\t\t\twhile word2[-1] in \"?!,. \":\n",
        "\t\t\t\tword2 = word2[:-1]\n",
        "\t\t\tif word1 == word2:\n",
        "\t\t\t\tpenalty += 0.2\n",
        "\t\treturn penalty\n",
        "\tdef calculate_score(vector_half, syllables, rhyme, penalty):\n",
        "\t\tdesired_syllables = vector_half[0]\n",
        "\t\tdesired_rhyme = vector_half[1]\n",
        "\t\tdesired_syllables = desired_syllables * maxsyllables\n",
        "\t\tdesired_rhyme = desired_rhyme * len(rhyme_list)\n",
        "\t\tscore = 1.0 - abs(float(desired_syllables) - float(syllables)) + abs(float(desired_rhyme) - float(rhyme)) - penalty\n",
        "\t\treturn score\n",
        "\tdataset = []\n",
        "\tfor line in generated_lyrics:\n",
        "\t\tline_list = [line, syllables(line), rhyme(line, rhyme_list)]\n",
        "\t\tdataset.append(line_list)\n",
        "\trap = []\n",
        "\tvector_halves = []\n",
        "\tfor vector in vectors:\n",
        "\t\tvector_halves.append(list(vector[0][0])) \n",
        "\t\tvector_halves.append(list(vector[0][1]))\n",
        "\tfor vector in vector_halves:\n",
        "\t\tscorelist = []\n",
        "\t\tfor item in dataset:\n",
        "\t\t\tline = item[0]\n",
        "\t\t\tif len(rap) != 0:\n",
        "\t\t\t\tpenalty = last_word_compare(rap, line)\n",
        "\t\t\telse:\n",
        "\t\t\t\tpenalty = 0\n",
        "\t\t\ttotal_score = calculate_score(vector, item[1], item[2], penalty)\n",
        "\t\t\tscore_entry = [line, total_score]\n",
        "\t\t\tscorelist.append(score_entry)\n",
        "\t\tfixed_score_list = [0]\n",
        "\t\tfor score in scorelist:\n",
        "\t\t\tfixed_score_list.append(float(score[1]))\n",
        "\t\tmax_score = max(fixed_score_list)\n",
        "\t\tfor item in scorelist:\n",
        "\t\t\tif item[1] == max_score:\n",
        "\t\t\t\trap.append(item[0])\n",
        "\t\t\t\tprint (str(item[0]))\n",
        "\t\t\t\tfor i in dataset:\n",
        "\t\t\t\t\tif item[0] == i[0]:\n",
        "\t\t\t\t\t\tdataset.remove(i)\n",
        "\t\t\t\t\t\tbreak\n",
        "\t\t\t\tbreak     \n",
        "\treturn rap"
      ],
      "metadata": {
        "id": "ve_FU6oCaRPo"
      },
      "execution_count": 16,
      "outputs": []
    },
    {
      "cell_type": "markdown",
      "source": [
        "### **Train and run the model**"
      ],
      "metadata": {
        "id": "dO9LWRmnyJrw"
      }
    },
    {
      "cell_type": "markdown",
      "source": [
        "Traning function"
      ],
      "metadata": {
        "id": "U48gvjyIyCx5"
      }
    },
    {
      "cell_type": "code",
      "source": [
        "def train(x_data, y_data, model):\n",
        "\tmodel.fit(np.array(x_data), np.array(y_data),\n",
        "\t\t\t  batch_size=2,\n",
        "\t\t\t  epochs=5,\n",
        "\t\t\t  verbose=1)\n",
        "\tmodel.save_weights(artist + \".rap\")"
      ],
      "metadata": {
        "id": "wy51mmivaRNS"
      },
      "execution_count": 17,
      "outputs": []
    },
    {
      "cell_type": "code",
      "source": [
        "def main(depth, train_mode):\n",
        "\tmodel = create_network(depth)\n",
        "\ttext_model = markov(text_file)\n",
        "\tif train_mode == True:\n",
        "\t\tbars = split_lyrics_file(text_file)\n",
        "\tif train_mode == False:\n",
        "\t\tbars = generate_lyrics(text_model, text_file)\n",
        "\trhyme_list = rhymeindex(bars)\n",
        "\tif train_mode == True:\n",
        "\t\tx_data, y_data = build_dataset(bars, rhyme_list)\n",
        "\t\ttrain(x_data, y_data, model)\n",
        "\tif train_mode == False:\n",
        "\t\tvectors = compose_rap(bars, rhyme_list, text_file, model)\n",
        "\t\trap = vectors_into_song(vectors, bars, rhyme_list)\n",
        "\t\tf = open(rap_file, \"w\", encoding='utf-8')\n",
        "\t\tfor bar in rap:\n",
        "\t\t\tf.write(bar)\n",
        "\t\t\tf.write(\"\\n\")"
      ],
      "metadata": {
        "id": "y8Wjj_O2aRKr"
      },
      "execution_count": 18,
      "outputs": []
    },
    {
      "cell_type": "markdown",
      "source": [
        "Some important parameters to keep in mind are as follows: (1) maxsyllables: max # of syllables per line; (2) max_overlap_ratio: how different the output should be from the original input; (3) tries: how many times to try to build a line that satisifies some parameter; (4) epochs: how many times for the NN to pass over the data.\n",
        "\n",
        "To reduce computational complexity, maximize (1) and (2) and minimize (3) and (4).\n",
        "Computational time will increase dramatically when (1) is less than 8 and when (2) is less than 0.5"
      ],
      "metadata": {
        "id": "g2KoBNIMyiFM"
      }
    },
    {
      "cell_type": "code",
      "source": [
        "depth = 4 \n",
        "maxsyllables = 8\n",
        "artist = \"artist\"\n",
        "rap_file = \"temporary_poem.txt\""
      ],
      "metadata": {
        "id": "xr2VRIRCdMA3"
      },
      "execution_count": 19,
      "outputs": []
    },
    {
      "cell_type": "markdown",
      "source": [
        "Write new lyrics in the style of Notorious B.I.G.."
      ],
      "metadata": {
        "id": "rlnMhFzLyl_-"
      }
    },
    {
      "cell_type": "code",
      "source": [
        "maxsyllables = 8\n",
        "text_file = artist_file\n",
        "train_mode = True        \n",
        "main(depth, train_mode)\n",
        "train_mode = False\n",
        "main(depth, train_mode)"
      ],
      "metadata": {
        "colab": {
          "base_uri": "https://localhost:8080/"
        },
        "id": "5Y3D9k_SdMto",
        "outputId": "5e92b89c-936f-4ee4-94f8-e09d803001ef"
      },
      "execution_count": 20,
      "outputs": [
        {
          "output_type": "stream",
          "name": "stdout",
          "text": [
            "Model: \"sequential\"\n",
            "_________________________________________________________________\n",
            " Layer (type)                Output Shape              Param #   \n",
            "=================================================================\n",
            " lstm (LSTM)                 (None, 2, 4)              112       \n",
            "                                                                 \n",
            " lstm_1 (LSTM)               (None, 2, 8)              416       \n",
            "                                                                 \n",
            " lstm_2 (LSTM)               (None, 2, 8)              544       \n",
            "                                                                 \n",
            " lstm_3 (LSTM)               (None, 2, 8)              544       \n",
            "                                                                 \n",
            " lstm_4 (LSTM)               (None, 2, 8)              544       \n",
            "                                                                 \n",
            " lstm_5 (LSTM)               (None, 2, 2)              88        \n",
            "                                                                 \n",
            "=================================================================\n",
            "Total params: 2,248\n",
            "Trainable params: 2,248\n",
            "Non-trainable params: 0\n",
            "_________________________________________________________________\n",
            "Building list of rhymes:\n",
            "List of Sorted 2-Letter Rhyme Ends:\n",
            "['', \"s'\", 'ca', 'da', 'ga', 'ha', 'ia', 'ja', 'ka', 'la', 'ma', 'na', 'pa', 'ra', 'ta', 'ya', 'ib', 'rb', 'ic', 'mc', 'ad', 'ed', 'id', 'ld', 'nd', 'od', 'rd', 'ud', 'ce', 'de', 'ee', 'fe', 'ge', 'he', 'ie', 'ke', 'le', 'me', 'ne', 'pe', 're', 'se', 'te', 'ue', 've', 'ze', 'ef', 'ff', 'lf', 'nf', 'of', 'ag', 'gg', 'ig', 'ng', 'og', 'ug', 'ah', 'ch', 'eh', 'gh', 'hh', 'oh', 'sh', 'th', 'uh', 'ai', 'ci', 'hi', 'ki', 'li', 'mi', 'ni', 'pi', 'ri', 'si', 'ti', 'ak', 'ck', 'ek', 'ik', 'nk', 'ok', 'rk', 'al', 'el', 'll', 'rl', 'sl', 'am', 'em', 'im', 'mm', 'om', 'rm', 'sm', 'um', 'an', 'dn', 'en', 'in', 'on', 'un', 'wn', 'yn', 'ao', 'do', 'eo', 'fo', 'go', 'ho', 'io', 'ko', 'lo', 'mo', 'no', 'po', 'ro', 'to', 'wo', 'yo', 'ap', 'ep', 'ip', 'lp', 'mp', 'op', 'pp', 'up', 'ar', 'er', 'or', 'ur', \"'s\", 'as', 'bs', 'cs', 'ds', 'es', 'fs', 'gs', 'hs', 'is', 'ks', 'ls', 'ms', 'ns', 'os', 'ps', 'rs', 'ss', 'ts', 'us', 'ws', 'ys', 'zs', \"'t\", 'at', 'ct', 'et', 'ft', 'ht', 'it', 'kt', 'nt', 'ot', 'rt', 'st', 'tt', 'ut', 'au', 'cu', 'fu', 'hu', 'ou', 'av', 'pv', 'aw', 'ew', 'ow', 'ww', 'ex', 'ix', 'ox', 'ay', 'by', 'dy', 'ey', 'gy', 'hy', 'ky', 'ly', 'my', 'ny', 'oy', 'py', 'ry', 'sy', 'ty', 'uy', 'vy', 'yy', 'zy', 'az', 'ez', 'iz', 'tz', 'uz']\n",
            "Epoch 1/5\n",
            "2640/2640 [==============================] - 29s 8ms/step - loss: 0.3268\n",
            "Epoch 2/5\n",
            "2640/2640 [==============================] - 20s 8ms/step - loss: 0.2808\n",
            "Epoch 3/5\n",
            "2640/2640 [==============================] - 22s 8ms/step - loss: 0.2808\n",
            "Epoch 4/5\n",
            "2640/2640 [==============================] - 20s 8ms/step - loss: 0.2809\n",
            "Epoch 5/5\n",
            "2640/2640 [==============================] - 20s 8ms/step - loss: 0.2808\n",
            "Model: \"sequential_1\"\n",
            "_________________________________________________________________\n",
            " Layer (type)                Output Shape              Param #   \n",
            "=================================================================\n",
            " lstm_6 (LSTM)               (None, 2, 4)              112       \n",
            "                                                                 \n",
            " lstm_7 (LSTM)               (None, 2, 8)              416       \n",
            "                                                                 \n",
            " lstm_8 (LSTM)               (None, 2, 8)              544       \n",
            "                                                                 \n",
            " lstm_9 (LSTM)               (None, 2, 8)              544       \n",
            "                                                                 \n",
            " lstm_10 (LSTM)              (None, 2, 8)              544       \n",
            "                                                                 \n",
            " lstm_11 (LSTM)              (None, 2, 2)              88        \n",
            "                                                                 \n",
            "=================================================================\n",
            "Total params: 2,248\n",
            "Trainable params: 2,248\n",
            "Non-trainable params: 0\n",
            "_________________________________________________________________\n",
            "loading saved rhymes from artist.rhymes\n",
            "\n",
            "\n",
            "\n",
            "Writing verse:\n",
            "\n",
            "\n",
            "\n",
            "Treat the bitch in my biz\n",
            "He is he is he is he is\n",
            "Thats me on your face blue\n",
            "And me I get down hoe\n",
            "So we can be the silliest\n",
            "Slugs up in the back way\n",
            "Things to make the shit too\n",
            "I know where we goin to\n",
            "Treat the bitch in my Vs\n",
            "Know the bitch off my flow\n",
            "Yeah you on the wall out\n",
            "For me to push the sticks\n",
            "We need to be a lot\n",
            "But I can be the clearest\n",
            "Fuck that I was the worst\n",
            "but Im up in the West\n",
            "When I die on my chest\n",
            "Cause I see the bitch get the vest\n",
            "Give me the bitch got gassed\n",
            "When I die on my shirt\n",
            "All I want to see shit\n",
            "Luke and Biggie Biggie Biggie Biggie\n",
            "I think they be like that\n",
            "You dont want the stash at\n",
            "For me to the wake up\n",
            "If the beef come you be with you\n",
            "I thought he was he had to do\n",
            "Im all that bitch is untrue\n",
            "And when he came out wit the s\n",
            "May see me on your fingers\n",
            "Huh Im doin all the guns\n",
            "Cause you got the hookers pussy\n",
            "Tell me what I gotta go\n",
            "See who got the cleanest cut\n",
            "Just the way to get my nut\n",
            "Huh Im doin all the rocks\n",
            "I know how the shits legit\n",
            "You wont see me in a bad bad boy\n",
            "Fuck that I was too hot\n",
            "Said he had to find a spot\n",
            "Thats the one to move wisely\n",
            "I like to take it lightly\n",
            "If I die on my knees\n",
            "Thugging with me in the scrolls\n",
            "Its like the way to get bent\n",
            "Cause Im on the th Commandment\n",
            "Smokin blunts with the next blunt\n",
            "Let me hit the right lines\n",
            "All I do that shit aint\n",
            "Bitch what I need to front\n",
            "He is he is he is he is he is\n",
            "If I die on my goods\n",
            "Mad tricks up the block with the gat biggie\n",
            "Yo they got to split it\n",
            "I think they be actin silly\n",
            "I fuck wit the bullshit baby\n",
            "Beef is when you call me all day\n",
            "Youll see youll see how we do the rockaway\n",
            "Now what you want to chat\n",
            "We are we are we are we are\n",
            "So what we had to stop\n",
            "And when he came out wit the fake blaow\n",
            "Tie you up in the hoop\n",
            "Remember when I had a clue\n",
            "Look what that be the clearest\n",
            "NiXga creep up from the streets\n",
            "Friend and we was just like us\n",
            "Yeah you on the phone in the ass\n",
            "Time to get with me killers\n",
            "For me to stop my ones\n",
            "Thought a niXga from the slums\n",
            "Guess thats why my niXga O\n",
            "Hey yo Biggie let me hit the door ohh\n",
            "She knew me and Lil Cease yo yo\n",
            "And if I go down below\n",
            "What the fuck up my nickels\n",
            "So you wanna see no bricks\n",
            "we gon go call your clicks\n",
            "When I was in the back way\n",
            "All the ladies in the mansion the yacht\n",
            "Told the bitch in my heart said not\n",
            "Cause I see em like that\n",
            "I took the back of the worlds greatest\n",
            "What it is but we had didnt last\n",
            "Here come the cash before the tears start\n",
            "Youll see youll see how we do the real things\n",
            "Shit is real in the eye player please\n",
            "Took it to you in my biz\n",
            "Treat the bitch get up in Prospect\n",
            "Bitch fuck a bitch at me too\n",
            "Man fuck that bitch is untrue\n",
            "Dont stop Yo let me do brains blue\n",
            "I live for the bread and the closet\n",
            "Plans to leave you on the floor wit\n",
            "Sex is all I can be the boss\n",
            "Huh Im doin all the mommies\n",
            "Id like to fuck with her\n",
            "And I just hit em with the gat\n",
            "Said he had to find now\n",
            "Friend and we was just faker\n",
            "Can you just a half hour\n",
            "Yeah you on the third power\n",
            "Swear he put the guns in the gutter\n",
            "Oh yeah I see you later\n",
            "Ill smack the bitch off my flow\n",
            "Spurtin off in the mall out\n",
            "schooled me to push the sticks\n",
            "Why you wanna be a lot\n",
            "Now how you do to ya boy\n",
            "And when I was too hot\n",
            "Im doin all the guns in\n",
            "Then we came to me spendin\n",
            "U know I do is Chorus\n",
            "Ha I like the more dangerous\n",
            "Said it was on my chest\n",
            "Girls used to get the vest\n",
            "Honeys want to be the silliest\n",
            "Still ride still die for the YG the two hits\n",
            "I call em on a blimp\n",
            "By now you know the pen\n",
            "So we can be the big humongous butts\n",
            "Approach to know where it hurts\n",
            "If it was on my shirt\n",
            "The back of the streets is a mess\n",
            "I got to do me I like this\n",
            "Said he had a good man\n",
            "And shit you out your lighters\n",
            "All my life I live for the stars\n",
            "When I die on my knees\n",
            "I love to see me in the scrolls\n",
            "Love me when Im up in the trep\n",
            "Man what you wanna see no chips\n",
            "All these hoes I got the GAT Biggie\n",
            "And when Im down with the gat biggie\n",
            "Sex is all I can hit the skins\n",
            "I saw you and your jewels\n",
            "Cause when I see my mask and shells\n",
            "If I die on my cream\n",
            "They dont call me all day all day\n",
            "I roll up the party at\n",
            "They actors and the chronic by the gs\n",
            "Took it to rock the spot was wise\n",
            "I saw you and your watches\n",
            "N how you do me swell\n",
            "My life is on they glasses\n",
            "When I die on my wall\n",
            "U know I got the gall\n",
            "Quick to grab the guns in the bushes\n",
            "Mad tricks up the block with my friends\n",
            "Youll see youll see how we do it to you\n",
            "When I see em like we always do\n",
            "All I do what I want to\n",
            "Will I fuck wit the Stylistics\n",
            "Dick up in the head honcho\n",
            "But you was just like us\n",
            "Raw me you would die for the funk\n",
            "I took the bread and then Im Swayze\n",
            "If I die on my enemies\n",
            "Heard it was on the avenues\n",
            "Youre dead wrong I got your Benz\n",
            "Riffin she got a chrome fourfour\n",
            "I tote guns and come over\n",
            "When I die on my block\n",
            "And they took me a brick\n",
            "and my girl was a sucker\n",
            "Fuck it buy the house of the cruiser\n",
            "What you want to be black\n",
            "Then we came to me motherfucker\n",
            "Yall know the streets to the nut buster\n",
            "If I pull it in the rap slayer\n",
            "N how you do it better\n",
            "Except when I want the paper\n",
            "When I die on my dick\n",
            "Guess thats why I get down\n",
            "Said he had a gun up in the car\n",
            "Mase you know they love to buck hoe\n",
            "Your life is to make one\n",
            "My team in the field whats the hun\n",
            "I just love to see no bricks\n",
            "All that I want the friction\n",
            "But we so hard to find out the blue drop\n",
            "Jet skiing in the winter to the spot\n",
            "That but you not to sin\n",
            "Thats got to die for the stallin\n",
            "Just Bone and Biggie aint got the scoop\n",
            "You wanna see the bitch got gassed\n",
            "It aint nothing but my limp\n",
            "Mad I smoke a little help\n",
            "So you wanna see the semen\n",
            "As I grab my gun an\n",
            "Know the bitch get up on it flip\n",
            "Its Bricks keep your hands in the clip\n",
            "Skip the wine is right the wine and the whip\n",
            "What you wanna go to sleep\n",
            "Believe it Im the winner is\n",
            "I got to die for the safe too\n",
            "A yo Biggie let me do brains blue\n",
            "Dont stop Yo let me hit the floor wit\n",
            "Its like the life I been on it\n",
            "for chumps tryin to get the gat shit\n",
            "And they took me a try\n",
            "The shit I got to die\n"
          ]
        }
      ]
    },
    {
      "cell_type": "markdown",
      "source": [
        "Write new lyrics in the style of Lil Wayne"
      ],
      "metadata": {
        "id": "fMEjlYM5ynSz"
      }
    },
    {
      "cell_type": "code",
      "source": [
        "text_file = artist_file_1\n",
        "maxsyllables = 8\n",
        "train_mode = True        \n",
        "main(depth, train_mode)\n",
        "train_mode = False\n",
        "main(depth, train_mode)"
      ],
      "metadata": {
        "colab": {
          "base_uri": "https://localhost:8080/"
        },
        "id": "2-3WvczgdMrC",
        "outputId": "597011ea-6faa-4332-e342-6ac6ac89f271"
      },
      "execution_count": 21,
      "outputs": [
        {
          "output_type": "stream",
          "name": "stdout",
          "text": [
            "Model: \"sequential_2\"\n",
            "_________________________________________________________________\n",
            " Layer (type)                Output Shape              Param #   \n",
            "=================================================================\n",
            " lstm_12 (LSTM)              (None, 2, 4)              112       \n",
            "                                                                 \n",
            " lstm_13 (LSTM)              (None, 2, 8)              416       \n",
            "                                                                 \n",
            " lstm_14 (LSTM)              (None, 2, 8)              544       \n",
            "                                                                 \n",
            " lstm_15 (LSTM)              (None, 2, 8)              544       \n",
            "                                                                 \n",
            " lstm_16 (LSTM)              (None, 2, 8)              544       \n",
            "                                                                 \n",
            " lstm_17 (LSTM)              (None, 2, 2)              88        \n",
            "                                                                 \n",
            "=================================================================\n",
            "Total params: 2,248\n",
            "Trainable params: 2,248\n",
            "Non-trainable params: 0\n",
            "_________________________________________________________________\n",
            "Building list of rhymes:\n",
            "List of Sorted 2-Letter Rhyme Ends:\n",
            "[\"s'\", 'a', 'aa', 'ba', 'ca', 'da', 'ea', 'ga', 'ha', 'ia', 'ka', 'la', 'ma', 'na', 'ra', 'ta', 'va', 'ab', 'ub', 'ic', 'ad', 'ed', 'id', 'nd', 'od', 'rd', 'ud', 'wd', 'ce', 'de', 'ee', 'fe', 'ge', 'he', 'ie', 'ke', 'le', 'me', 'ne', 'pe', 're', 'se', 'te', 'ue', 've', 'ye', 'ze', 'ef', 'ff', 'lf', 'of', 'ag', 'bg', 'eg', 'gg', 'ig', 'ng', 'og', 'ug', 'wg', 'ah', 'ch', 'eh', 'hh', 'sh', 'th', 'uh', 'ai', 'bi', 'di', 'fi', 'gi', 'hi', 'ki', 'li', 'mi', 'ni', 'ri', 'ti', 'aj', 'ck', 'ik', 'lk', 'nk', 'ok', 'rk', 'sk', 'al', 'el', 'll', 'rl', 'am', 'em', 'im', 'mm', 'om', 'rm', 'um', 'an', 'en', 'in', 'on', 'rn', 'un', 'wn', 'yn', 'ao', 'co', 'do', 'go', 'io', 'ko', 'no', 'oo', 'ro', 'to', 'ap', 'ep', 'ip', 'lp', 'mp', 'op', 'pp', 'up', 'ar', 'er', 'jr', 'or', 'ur', \"'s\", 'as', 'cs', 'ds', 'es', 'gs', 'hs', 'is', 'ks', 'ls', 'ms', 'ns', 'os', 'ps', 'rs', 'ss', 'ts', 'us', 'ws', \"'t\", 'at', 'ct', 'et', 'ft', 'ht', 'it', 'lt', 'nt', 'ot', 'pt', 'rt', 'st', 'tt', 'ut', 'au', 'ou', 'ov', 'aw', 'ew', 'ow', 'ex', 'ix', 'ay', 'by', 'cy', 'dy', 'ey', 'ky', 'ly', 'my', 'ny', 'oy', 'py', 'ry', 'sy', 'ty', 'vy', 'zy', 'az', 'ez', 'iz', 'lz', 'nz', 'tz']\n",
            "Epoch 1/5\n",
            "1575/1575 [==============================] - 27s 10ms/step - loss: 0.2681\n",
            "Epoch 2/5\n",
            "1575/1575 [==============================] - 16s 10ms/step - loss: 0.1962\n",
            "Epoch 3/5\n",
            "1575/1575 [==============================] - 17s 11ms/step - loss: 0.1961\n",
            "Epoch 4/5\n",
            "1575/1575 [==============================] - 16s 10ms/step - loss: 0.1961\n",
            "Epoch 5/5\n",
            "1575/1575 [==============================] - 17s 10ms/step - loss: 0.1961\n",
            "Model: \"sequential_3\"\n",
            "_________________________________________________________________\n",
            " Layer (type)                Output Shape              Param #   \n",
            "=================================================================\n",
            " lstm_18 (LSTM)              (None, 2, 4)              112       \n",
            "                                                                 \n",
            " lstm_19 (LSTM)              (None, 2, 8)              416       \n",
            "                                                                 \n",
            " lstm_20 (LSTM)              (None, 2, 8)              544       \n",
            "                                                                 \n",
            " lstm_21 (LSTM)              (None, 2, 8)              544       \n",
            "                                                                 \n",
            " lstm_22 (LSTM)              (None, 2, 8)              544       \n",
            "                                                                 \n",
            " lstm_23 (LSTM)              (None, 2, 2)              88        \n",
            "                                                                 \n",
            "=================================================================\n",
            "Total params: 2,248\n",
            "Trainable params: 2,248\n",
            "Non-trainable params: 0\n",
            "_________________________________________________________________\n",
            "loading saved rhymes from artist.rhymes\n",
            "\n",
            "\n",
            "\n",
            "Writing verse:\n",
            "\n",
            "\n",
            "\n",
            "Im the the the the the the the the best to do\n",
            "But me me me see the night for you\n",
            "But me me me me see me with her\n",
            "Boy we do it again x\n",
            "I put it in your pants\n",
            "You cant see me I am me who\n",
            "Yeah got me on the way it is\n",
            "But lets get to the spot\n",
            "I get out of the most\n",
            "We was high in the first\n",
            "When they see me like a hot boy\n",
            "Yeah Im from the scene ugly\n",
            "We was high in the caddy\n",
            "Then let me be the bouncer\n",
            "And I see me I was the baby\n",
            "We in the front of my life X\n",
            "I get out of the bus\n",
            "But me me me me see me see the bottom\n",
            "And I just got the world know\n",
            "I cant be there to let me go\n",
            "Throw it back in that ho\n",
            "Imma take it for the show\n",
            "Trying to get to it yo\n",
            "But how can I say what\n",
            "Ride to it and walk out\n",
            "Tryin to watch over the drout\n",
            "We aint on my dick not\n",
            "Hey girl dont let her see the cot\n",
            "Bring it on my bitch hot\n",
            "I fuck with the top of the beast\n",
            "When they see me I am the wildest\n",
            "I see you with that boy he nasty\n",
            "And I dont have to start\n",
            "Trying to get you a pussy\n",
            "And I like them I couldnt\n",
            "Cause I like them I coudlnt\n",
            "Top floor of the streets with the money\n",
            "Shout out to get to it\n",
            "Or you can see it when we smoke the ooey\n",
            "Let me see me like a shoe horn\n",
            "So they ask me what the fuck is Stevie J\n",
            "Make me go back to the spot\n",
            "Yea and I aint on this\n",
            "Gotta love that I had to\n",
            "TPain on them niXgas no paw\n",
            "And Im back like Tom Hearns\n",
            "But me me see me see me I dont lie\n",
            "Then I get out the whole dough\n",
            "Then let me die in the belly of the cut\n",
            "Sittin low in the air in the drought\n",
            "And I got a hoe skeet skeet squirt\n",
            "you to get a few stairs\n",
            "I see it in they titties\n",
            "So I be on my Nikes\n",
            "You dont know I need meds\n",
            "I say I was high in the front\n",
            "She said dont you know what we want\n",
            "No chrome on the end of my pants\n",
            "I got your girl to the fight Aight\n",
            "She want to talk to you\n",
            "I can do what to do\n",
            "But we gon do do what it is\n",
            "I see me I was airborne\n",
            "Bring it on my dick sucked\n",
            "Laid back in the green ranger\n",
            "But lets get to the locker\n",
            "But lets get to the inner\n",
            "So they ask me what you call that\n",
            "Train in the back and make me go\n",
            "Shout out to get to the show\n",
            "Aww shit I see it in\n",
            "Please God dont let her see the cot\n",
            "But me me me see me I touch you man\n",
            "I be on my grind on\n",
            "Throw him with the top of the most\n",
            "And and Im a million shots\n",
            "Ok I get out the alphabets\n",
            "Ok I get you a pussy\n",
            "They love it when she call me hot sauce\n",
            "She know Im on my fingers\n",
            "I put it in your hip\n",
            "But I cant see me with a dip\n",
            "But I like them I couldnt\n",
            "Can I put up wit the talk boy\n",
            "And you can be your dream\n",
            "On the day I went to the money\n",
            "Fuck you and we get concussions\n",
            "Then I get out of it\n",
            "Now you can see it when we smoke the ooey\n",
            "And all you niXgas is dogs\n",
            "And I dont want to see your tears\n",
            "Just fuck with me what the fuck is Stevie J\n",
            "Thats life to me right in my hands\n",
            "But I like that dick withhands\n",
            "No call me its the life of my life X\n",
            "And chicks I get my grown man x\n",
            "When they see me like a cash cow\n",
            "Im like the way and lose the pieces\n",
            "except for the show I am me who\n",
            "I see it in a trick\n",
            "Shit you cant take it down\n",
            "Ok I get to no one\n",
            "And dawg I do this son\n",
            "Suck the dick in the ground is gone\n",
            "Like how you like a farmer\n",
            "Cause I got a bad river\n",
            "For me and my goons to kill me here\n",
            "And you dont know that paper\n",
            "But me me me see me I dont even wonder\n",
            "Shout out to get it let me know\n",
            "When they see me I mean so much dough\n",
            "Riding s and we made it this far\n",
            "No you know it and walk out\n",
            "Make harm in the middle of the cut\n",
            "Im here to see her again\n",
            "Juelz why you want it then\n",
            "See what I like a prenup\n",
            "Like diamonds on my dick not\n",
            "I see it in a turban\n",
            "On the day I went to the script yup\n",
            "Its crying for me for me me see me I was up\n",
            "Fuck you bitch Im the king of the beast\n",
            "My bitch got a hoe skeet skeet squirt\n",
            "May I be on my Nikes\n",
            "Throw it back in that gossip\n",
            "I dont like me I got em\n",
            "But me me me see me I was like damn damn\n",
            "She call me its the life of my pants\n",
            "Imma take it when she call\n",
            "Tryin to watch over the wall\n",
            "But I get to it yall\n",
            "Tell me what you heard bout the deal\n",
            "Your so You know I be who he is\n",
            "Ill come to my dick sucked\n",
            "Shoot ya in the green ranger\n",
            "Girl I can see what you call that\n",
            "Now what we got the game\n",
            "Let me see me like a butch bitch\n",
            "Now this is the night Yeah\n",
            "Girl do you want me to the spot\n",
            "I love that I would talk\n",
            "Hearing through the stuff trust me on this\n",
            "Ooh boo you can call me hot sauce\n",
            "Deep in the heat get out of the bus\n",
            "Me I got a full deck\n",
            "I dont want to go back\n",
            "Take care of my life of the gun\n",
            "Is how I see you with that boy\n",
            "Now you can be your dream\n",
            "She say I dont see me see me\n",
            "If your ass up like Scottie\n",
            "Aww shit I see you with the money\n",
            "Straight from the scene on a Full moon\n",
            "You know I need is the ocean\n",
            "I stream through the beach and we eatin\n",
            "Help I need is the flag\n",
            "But we gon do do what I can\n",
            "Yup then you niXgas is dogs\n",
            "So they ask me what you doin mam\n",
            "Guess what we got the world no condom\n",
            "Shout out to get a few stairs\n",
            "And just like that dick withhands\n",
            "We let the rest of my own team\n",
            "I thought I get my grown man x\n",
            "Living in the front of my life X\n",
            "She say whats up with the K why\n",
            "Aww shit I see you with the program\n",
            "And I see her on sight\n",
            "What we gon do me you dont have you\n",
            "Future I know what it do\n",
            "just so I take it down\n",
            "But I get out of breath\n",
            "And I aint on this one\n",
            "We was high in the air\n",
            "Girl do you want me to the locker\n",
            "Know I got a bad river\n",
            "Me and my goons to kill me here\n",
            "Let me see the bottom of the throne\n",
            "Now I dont get it let me know\n",
            "NiXgas cant take the heat make me go\n",
            "Tell me what to come home\n",
            "Im here to see if my legs work\n",
            "Help you know it and walk out\n",
            "She want to see her again\n",
            "Im in the air in the school yearbook\n",
            "Ok I get out the notebook\n",
            "Women steppin out for me me see the cot\n",
            "Dont you know that Im on\n",
            "But how can I say whats up\n",
            "Cause thats what show me to the script yup\n",
            "Laid back in the bomb like\n",
            "Take care of my life of the beast\n",
            "But lets get to the judge\n",
            "Aww shit I want the change\n",
            "In this bitch and a thong\n",
            "And I see me I was grooving\n",
            "Come straight to my hood love me dick\n",
            "They like the way they said i couldnt\n",
            "Imma take it for the three\n",
            "Its crying for me then you know it\n",
            "And I know they cant see through that\n",
            "Man Im on my side prove\n"
          ]
        }
      ]
    },
    {
      "cell_type": "markdown",
      "source": [
        "**Writing new lyrics in the combined style of Notorious B.I.G. and Lil Wayne.**"
      ],
      "metadata": {
        "id": "vwldbwTry09y"
      }
    },
    {
      "cell_type": "code",
      "source": [
        "filenames = [artist_file, artist_file_1]\n",
        "with open('combined.txt', 'w') as outfile:\n",
        "    for fname in filenames:\n",
        "        with open(fname) as infile:\n",
        "            for line in infile:\n",
        "                outfile.write(line)"
      ],
      "metadata": {
        "id": "wL6r05AvdMos"
      },
      "execution_count": 22,
      "outputs": []
    },
    {
      "cell_type": "code",
      "source": [
        "artist_file = 'combined.txt'\n",
        "plotWordFrequency(artist_file)"
      ],
      "metadata": {
        "colab": {
          "base_uri": "https://localhost:8080/",
          "height": 677
        },
        "id": "xYKmXgS5dMmE",
        "outputId": "941b7817-68cb-4633-c2de-6a272ed6ef88"
      },
      "execution_count": 23,
      "outputs": [
        {
          "output_type": "display_data",
          "data": {
            "text/plain": [
              "<Figure size 1440x720 with 1 Axes>"
            ],
            "image/png": "[encoded data removed]"
          },
          "metadata": {
            "needs_background": "light"
          }
        }
      ]
    },
    {
      "cell_type": "code",
      "source": [
        "maxsyllables = 8\n",
        "text_file = \"combined.txt\"\n",
        "train_mode = True        \n",
        "main(depth, train_mode)\n",
        "train_mode = False\n",
        "main(depth, train_mode)"
      ],
      "metadata": {
        "colab": {
          "base_uri": "https://localhost:8080/"
        },
        "id": "1Il0fX58dMjv",
        "outputId": "5e0e7b17-ea7a-40e0-e261-cb66d0f505a3"
      },
      "execution_count": 24,
      "outputs": [
        {
          "output_type": "stream",
          "name": "stdout",
          "text": [
            "Model: \"sequential_4\"\n",
            "_________________________________________________________________\n",
            " Layer (type)                Output Shape              Param #   \n",
            "=================================================================\n",
            " lstm_24 (LSTM)              (None, 2, 4)              112       \n",
            "                                                                 \n",
            " lstm_25 (LSTM)              (None, 2, 8)              416       \n",
            "                                                                 \n",
            " lstm_26 (LSTM)              (None, 2, 8)              544       \n",
            "                                                                 \n",
            " lstm_27 (LSTM)              (None, 2, 8)              544       \n",
            "                                                                 \n",
            " lstm_28 (LSTM)              (None, 2, 8)              544       \n",
            "                                                                 \n",
            " lstm_29 (LSTM)              (None, 2, 2)              88        \n",
            "                                                                 \n",
            "=================================================================\n",
            "Total params: 2,248\n",
            "Trainable params: 2,248\n",
            "Non-trainable params: 0\n",
            "_________________________________________________________________\n",
            "Building list of rhymes:\n",
            "List of Sorted 2-Letter Rhyme Ends:\n",
            "['', \"s'\", 'a', 'aa', 'ba', 'ca', 'da', 'ea', 'ga', 'ha', 'ia', 'ja', 'ka', 'la', 'ma', 'na', 'pa', 'ra', 'ta', 'va', 'ya', 'ab', 'ib', 'rb', 'ub', 'ic', 'mc', 'ad', 'ed', 'id', 'ld', 'nd', 'od', 'rd', 'ud', 'wd', 'ce', 'de', 'ee', 'fe', 'ge', 'he', 'ie', 'ke', 'le', 'me', 'ne', 'pe', 're', 'se', 'te', 'ue', 've', 'ye', 'ze', 'ef', 'ff', 'lf', 'nf', 'of', 'ag', 'bg', 'eg', 'gg', 'ig', 'ng', 'og', 'ug', 'wg', 'ah', 'ch', 'eh', 'gh', 'hh', 'oh', 'sh', 'th', 'uh', 'ai', 'bi', 'ci', 'di', 'fi', 'gi', 'hi', 'ki', 'li', 'mi', 'ni', 'pi', 'ri', 'si', 'ti', 'aj', 'ak', 'ck', 'ek', 'ik', 'lk', 'nk', 'ok', 'rk', 'sk', 'al', 'el', 'll', 'rl', 'sl', 'am', 'em', 'im', 'mm', 'om', 'rm', 'sm', 'um', 'an', 'dn', 'en', 'in', 'on', 'rn', 'un', 'wn', 'yn', 'ao', 'co', 'do', 'eo', 'fo', 'go', 'ho', 'io', 'ko', 'lo', 'mo', 'no', 'oo', 'po', 'ro', 'to', 'wo', 'yo', 'ap', 'ep', 'ip', 'lp', 'mp', 'op', 'pp', 'up', 'ar', 'er', 'jr', 'or', 'ur', \"'s\", 'as', 'bs', 'cs', 'ds', 'es', 'fs', 'gs', 'hs', 'is', 'ks', 'ls', 'ms', 'ns', 'os', 'ps', 'rs', 'ss', 'ts', 'us', 'ws', 'ys', 'zs', \"'t\", 'at', 'ct', 'et', 'ft', 'ht', 'it', 'kt', 'lt', 'nt', 'ot', 'pt', 'rt', 'st', 'tt', 'ut', 'au', 'cu', 'fu', 'hu', 'ou', 'av', 'ov', 'pv', 'aw', 'ew', 'ow', 'ww', 'ex', 'ix', 'ox', 'ay', 'by', 'cy', 'dy', 'ey', 'gy', 'hy', 'ky', 'ly', 'my', 'ny', 'oy', 'py', 'ry', 'sy', 'ty', 'uy', 'vy', 'yy', 'zy', 'az', 'ez', 'iz', 'lz', 'nz', 'tz', 'uz']\n",
            "Epoch 1/5\n",
            "4216/4216 [==============================] - 41s 8ms/step - loss: 0.2792\n",
            "Epoch 2/5\n",
            "4216/4216 [==============================] - 33s 8ms/step - loss: 0.2482\n",
            "Epoch 3/5\n",
            "4216/4216 [==============================] - 33s 8ms/step - loss: 0.2482\n",
            "Epoch 4/5\n",
            "4216/4216 [==============================] - 33s 8ms/step - loss: 0.2482\n",
            "Epoch 5/5\n",
            "4216/4216 [==============================] - 33s 8ms/step - loss: 0.2482\n",
            "Model: \"sequential_5\"\n",
            "_________________________________________________________________\n",
            " Layer (type)                Output Shape              Param #   \n",
            "=================================================================\n",
            " lstm_30 (LSTM)              (None, 2, 4)              112       \n",
            "                                                                 \n",
            " lstm_31 (LSTM)              (None, 2, 8)              416       \n",
            "                                                                 \n",
            " lstm_32 (LSTM)              (None, 2, 8)              544       \n",
            "                                                                 \n",
            " lstm_33 (LSTM)              (None, 2, 8)              544       \n",
            "                                                                 \n",
            " lstm_34 (LSTM)              (None, 2, 8)              544       \n",
            "                                                                 \n",
            " lstm_35 (LSTM)              (None, 2, 2)              88        \n",
            "                                                                 \n",
            "=================================================================\n",
            "Total params: 2,248\n",
            "Trainable params: 2,248\n",
            "Non-trainable params: 0\n",
            "_________________________________________________________________\n",
            "loading saved rhymes from artist.rhymes\n",
            "\n",
            "\n",
            "\n",
            "Writing verse:\n",
            "\n",
            "\n",
            "\n",
            "May I be who he is he is\n",
            "But me me me see me at my show\n",
            "So we can be the clearest\n",
            "Can I get the gat biggie\n",
            "Its crying for me me see me see me at\n",
            "give it to make the sex\n",
            "When I bust in your pants\n",
            "I know where we goin to\n",
            "Mom said that she been through\n",
            "Fuck it its the same crew\n",
            "He says he was he had a clue\n",
            "Told the bitch off my flow\n",
            "And I dont get down hoe\n",
            "I just got the world know\n",
            "So I can show me what\n",
            "I want to see me in the butt\n",
            "All that I bring the riot\n",
            "Why you wanna see the cot\n",
            "May see me I like the hottest\n",
            "Look what that be the silliest\n",
            "You know I need the most\n",
            "But lets get to that boy\n",
            "When I die on my shirt\n",
            "This a way to the money\n",
            "I see it for the moment\n",
            "Take it from the next blunt\n",
            "One life to me that monkey\n",
            "Can we have to start it\n",
            "Cause all we got the gat shit\n",
            "He is he is he is he is\n",
            "Then let me be the bouncer\n",
            "Let me be your day we in the lobby\n",
            "See who got the world baby\n",
            "Riffin she got me on your way\n",
            "Wreck it buy the house so she say\n",
            "If you got the world today\n",
            "Lets see the niXgas wit the fake blaow\n",
            "Cause I dont have to do\n",
            "Chills up that bitch is untrue\n",
            "Now how you do to you\n",
            "I put up wit the boys in blue\n",
            "You get her back take two\n",
            "You bout to die for the wait too\n",
            "Cause you got me on the streets\n",
            "When a niXga wit the s\n",
            "N Im the the best trimmers\n",
            "Bet he was in his arms\n",
            "Huh Im doin all the freaks\n",
            "Now check it out and blow\n",
            "They think I speak to Po\n",
            "Can I get to it yo\n",
            "Said she suck a niXga though\n",
            "Live with the dick in the door ohh\n",
            "I keep my man a pussy\n",
            "What the fuck you like the things out\n",
            "Now you can hit a nut\n",
            "Tryin to watch over the drout\n",
            "They see me I like the hicCUPS\n",
            "Boy you dont want the jewelry\n",
            "In this bitch and a yacht\n",
            "I tried to get you hot\n",
            "Lets get it like a lot\n",
            "I know how the shits legit\n",
            "Lets see the niXgas is dogs\n",
            "On top of the king of the beast\n",
            "Get ready to get the vest\n",
            "so for the tool up in the breast\n",
            "And I will put your heart\n",
            "If I die on my knees\n",
            "Let me hit the right lines\n",
            "Thats me on my stomach yummy\n",
            "I lay me down cause the scene ugly\n",
            "Far from the streets with the life of the Willie\n",
            "Jus tryin to take it lightly\n",
            "Leave it up and I cant\n",
            "Raw me you dont know what we want\n",
            "I got a man I couldnt\n",
            "Just the two if youre pregnant\n",
            "Fuck up the way to get bent\n",
            "Man what you want to front\n",
            "And Im down but the heat doesnt\n",
            "we gon do me I was\n",
            "Pockets broke as me the boss\n",
            "You aint gotta get it Biggie\n",
            "Friend and we have a hard hit\n",
            "Its all about the fight Aight\n",
            "Hugs from the back of the Puff Daddy\n",
            "So tell the kids to feed the needy\n",
            "She know Im on the pocket\n",
            "So we can be my paper\n",
            "Tie you up wit the gear\n",
            "Dont stop Yo let me be your hubby\n",
            "This a way to the project\n",
            "We are we are we are we are\n",
            "You can see it was on the runway\n",
            "Let me hit the right bitch and a day\n",
            "And all I want to chat\n",
            "I know how you call that\n",
            "Can I get the fucking gat\n",
            "Yep Im in that ass fat\n",
            "Thats me on your ass up\n",
            "when I flip the script yup\n",
            "I dont want me to stop\n",
            "cant see me I was in\n",
            "lean back I got the scoop\n",
            "Going around the world in my life X\n",
            "If I said we do it again x\n",
            "Hit a niXga from the roughnecks\n",
            "Shoot ya in the rap genius\n",
            "Let me be your day we in the clip\n",
            "Why blow up like you know who\n",
            "Itll leave a house on the avenue\n",
            "Seems to me you be the clearest\n",
            "Im ready for the two hits\n",
            "Now I know where it hurts\n",
            "Quick to grab the guns up the blunts\n",
            "So we can go to sleep\n",
            "Make up to your heart boy\n",
            "TPain on them niXgas no paw\n",
            "If I die on my shirt\n",
            "Twerk for that just like us\n",
            "Who was there when she hit the ass\n",
            "Roll up on your head chris\n",
            "What the fuck you got me on this\n",
            "Huh Im doin all the gangsters\n",
            "when Im down with me killers\n",
            "Why you wanna see no chips\n",
            "When I bust in your raps\n",
            "Drugs by the way that you can have\n",
            "Its goin down in the ghettos\n",
            "Whos the one to me that monkey\n",
            "Met a bitch in my veins\n",
            "He go back to the M\n",
            "NiXga creep up from the slums\n",
            "What the fuck up my nickels\n",
            "Now what we want to be in ICU\n",
            "What we gon go call your clicks\n",
            "And you wanna see no bricks\n",
            "What you want to push the sticks\n",
            "Now the dog out the blue and white ducks\n",
            "Then I aint in my socks\n",
            "Bet he was a dog wit no dough\n",
            "Guns I like you gotta go\n",
            "Dick up in a week ago\n",
            "You go call my niXga O\n",
            "When its time to get the cash flo\n",
            "When I die on my levis\n",
            "Bitch I put it to rock the spot\n",
            "I took the back of the worlds greatest\n",
            "What I do what I had the first\n",
            "Imma take it from your wrist\n",
            "And have the shit but we had didnt last\n",
            "Guaranteed to be on my chest\n",
            "Tell me why the fuck up my pipe bust\n",
            "Cause you gon do me I was past\n",
            "I love that bitch got gassed\n",
            "Cause you got me on my hope list\n",
            "Cos when we smoke weed like its dust\n",
            "But we so hard that your feet hurt\n",
            "Here come the cash before the tears start\n",
            "She know Im on the masses\n",
            "His head up but your eyes\n",
            "Tote big guns in the eye player please\n",
            "When I die on my Nikes\n",
            "And I aint in my hands\n",
            "Now I know I need meds\n",
            "Big come through in the basement\n",
            "Lets take it in they cribs\n",
            "We dont get to see me in your pants\n",
            "We have the shit it aint my fault\n",
            "You might be dumb but we gon do\n",
            "They like the way that she been through\n",
            "Your time is it to you\n",
            "And if that bitch is untrue\n",
            "What you what I had to\n",
            "No need to let me do brains blue\n",
            "All the money in my Benz\n",
            "Just Bone and Biggie on the floor wit\n",
            "But when they come to her\n",
            "now tell me why the fuck\n",
            "Here I come you aint here\n",
            "But me me me see me I come star rapper\n",
            "Let me hit the bricks in the tower\n",
            "Like Im the shit but a deer\n",
            "Pick it up for the winter\n",
            "Raw me you would die for the weather\n",
            "Shes saying I got the gun\n",
            "Its my block with a star\n",
            "Yeah you on a scripture tat\n",
            "Whos the one to me spendin\n",
            "They hit ya I dont know\n",
            "So what we had to turn a hoe\n",
            "Cause I see you with the drunk flow\n",
            "Lets take it for real though\n",
            "The day you would die for the show\n",
            "When this shit like a pussy\n",
            "Im lookin like the things out\n",
            "Now you can get my nut\n",
            "Dont ask me for my cream wallows\n",
            "Hey girl dont let her see the cot\n",
            "You bout to get you hot\n",
            "Yeah I been on it flip\n"
          ]
        }
      ]
    },
    {
      "cell_type": "markdown",
      "source": [
        "\n",
        "\n",
        "\n",
        "---\n",
        "---\n",
        "**This Notebook Ends Here**"
      ],
      "metadata": {
        "id": "_1PlneJQz8ne"
      }
    }
  ]
}